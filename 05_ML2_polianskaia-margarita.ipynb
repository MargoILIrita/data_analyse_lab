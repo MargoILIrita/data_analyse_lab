{
 "cells": [
  {
   "cell_type": "markdown",
   "metadata": {},
   "source": [
    "# Предсказываем, будет ли рекомедовать товар в своём отзыве покупатель\n",
    "На данных ритейлера женской одежды"
   ]
  },
  {
   "cell_type": "code",
   "execution_count": 1,
   "metadata": {},
   "outputs": [],
   "source": [
    "import pandas\n",
    "import sklearn.preprocessing as preprocess\n",
    "import sklearn.model_selection as model_selection\n",
    "import sklearn.neighbors as knn\n",
    "import sklearn.metrics as metrics\n",
    "import sklearn.pipeline as pipeline\n",
    "import sklearn.ensemble as ens\n",
    "import sklearn.tree as tree\n",
    "import pylab as plt\n",
    "\n",
    "def scores(y, predicted):\n",
    "    print(\"F - мера {0}\".format(metrics.f1_score(y, predicted)))\n",
    "    print(\"Полнота {0}\".format(metrics.recall_score(y, predicted)))\n",
    "    print(\"Точность {0}\".format(metrics.precision_score(y, predicted)))\n",
    "    print(\"Доля верных ответов {0}\".format(metrics.accuracy_score(y, predicted)))"
   ]
  },
  {
   "cell_type": "markdown",
   "metadata": {},
   "source": [
    "### Предобработка данных"
   ]
  },
  {
   "cell_type": "code",
   "execution_count": 2,
   "metadata": {},
   "outputs": [
    {
     "ename": "ValueError",
     "evalue": "Length of 'prefix' (4) did not match the length of the columns being encoded (3).",
     "output_type": "error",
     "traceback": [
      "\u001b[0;31m---------------------------------------------------------------------------\u001b[0m",
      "\u001b[0;31mValueError\u001b[0m                                Traceback (most recent call last)",
      "\u001b[0;32m<ipython-input-2-b0a946363a68>\u001b[0m in \u001b[0;36m<module>\u001b[0;34m()\u001b[0m\n\u001b[1;32m      1\u001b[0m \u001b[0mdataset\u001b[0m \u001b[0;34m=\u001b[0m \u001b[0mpandas\u001b[0m\u001b[0;34m.\u001b[0m\u001b[0mread_csv\u001b[0m\u001b[0;34m(\u001b[0m\u001b[0;34m'e-com.csv'\u001b[0m\u001b[0;34m,\u001b[0m \u001b[0msep\u001b[0m\u001b[0;34m=\u001b[0m\u001b[0;34m','\u001b[0m\u001b[0;34m)\u001b[0m\u001b[0;34m\u001b[0m\u001b[0m\n\u001b[1;32m      2\u001b[0m \u001b[0mdataset\u001b[0m \u001b[0;34m=\u001b[0m \u001b[0mdataset\u001b[0m\u001b[0;34m.\u001b[0m\u001b[0mdrop\u001b[0m\u001b[0;34m(\u001b[0m\u001b[0mcolumns\u001b[0m\u001b[0;34m=\u001b[0m\u001b[0;34m[\u001b[0m\u001b[0;34m'Title'\u001b[0m\u001b[0;34m,\u001b[0m \u001b[0;34m'Review Text'\u001b[0m\u001b[0;34m,\u001b[0m \u001b[0;34m'Unnamed: 0'\u001b[0m\u001b[0;34m,\u001b[0m \u001b[0;34m'Positive Feedback Count'\u001b[0m\u001b[0;34m,\u001b[0m \u001b[0;34m'Rating'\u001b[0m\u001b[0;34m]\u001b[0m\u001b[0;34m)\u001b[0m\u001b[0;34m\u001b[0m\u001b[0m\n\u001b[0;32m----> 3\u001b[0;31m \u001b[0mdf\u001b[0m \u001b[0;34m=\u001b[0m \u001b[0mpandas\u001b[0m\u001b[0;34m.\u001b[0m\u001b[0mget_dummies\u001b[0m\u001b[0;34m(\u001b[0m\u001b[0mdataset\u001b[0m\u001b[0;34m,\u001b[0m \u001b[0mprefix\u001b[0m\u001b[0;34m=\u001b[0m\u001b[0;34m[\u001b[0m\u001b[0;34m'Division Name'\u001b[0m\u001b[0;34m,\u001b[0m \u001b[0;34m'Department Name'\u001b[0m\u001b[0;34m,\u001b[0m \u001b[0;34m'Class Name'\u001b[0m\u001b[0;34m,\u001b[0m \u001b[0;34m'Recall'\u001b[0m\u001b[0;34m]\u001b[0m\u001b[0;34m,\u001b[0m \u001b[0mdrop_first\u001b[0m\u001b[0;34m=\u001b[0m\u001b[0;32mTrue\u001b[0m\u001b[0;34m)\u001b[0m\u001b[0;34m\u001b[0m\u001b[0m\n\u001b[0m\u001b[1;32m      4\u001b[0m \u001b[0mscaler\u001b[0m \u001b[0;34m=\u001b[0m \u001b[0mpreprocess\u001b[0m\u001b[0;34m.\u001b[0m\u001b[0mStandardScaler\u001b[0m\u001b[0;34m(\u001b[0m\u001b[0;34m)\u001b[0m\u001b[0;34m\u001b[0m\u001b[0m\n\u001b[1;32m      5\u001b[0m \u001b[0mscaler\u001b[0m\u001b[0;34m.\u001b[0m\u001b[0mfit_transform\u001b[0m\u001b[0;34m(\u001b[0m\u001b[0mdf\u001b[0m\u001b[0;34m[\u001b[0m\u001b[0;34m[\u001b[0m\u001b[0;34m'Clothing ID'\u001b[0m\u001b[0;34m,\u001b[0m \u001b[0;34m'Age'\u001b[0m\u001b[0;34m]\u001b[0m\u001b[0;34m]\u001b[0m\u001b[0;34m)\u001b[0m\u001b[0;34m\u001b[0m\u001b[0m\n",
      "\u001b[0;32mD:\\Мои файлы\\Программы\\python\\data_analyse_labs\\venv\\lib\\site-packages\\pandas\\core\\reshape\\reshape.py\u001b[0m in \u001b[0;36mget_dummies\u001b[0;34m(data, prefix, prefix_sep, dummy_na, columns, sparse, drop_first, dtype)\u001b[0m\n\u001b[1;32m    856\u001b[0m                     \u001b[0;32mraise\u001b[0m \u001b[0mValueError\u001b[0m\u001b[0;34m(\u001b[0m\u001b[0mlen_msg\u001b[0m\u001b[0;34m)\u001b[0m\u001b[0;34m\u001b[0m\u001b[0m\n\u001b[1;32m    857\u001b[0m \u001b[0;34m\u001b[0m\u001b[0m\n\u001b[0;32m--> 858\u001b[0;31m         \u001b[0mcheck_len\u001b[0m\u001b[0;34m(\u001b[0m\u001b[0mprefix\u001b[0m\u001b[0;34m,\u001b[0m \u001b[0;34m'prefix'\u001b[0m\u001b[0;34m)\u001b[0m\u001b[0;34m\u001b[0m\u001b[0m\n\u001b[0m\u001b[1;32m    859\u001b[0m         \u001b[0mcheck_len\u001b[0m\u001b[0;34m(\u001b[0m\u001b[0mprefix_sep\u001b[0m\u001b[0;34m,\u001b[0m \u001b[0;34m'prefix_sep'\u001b[0m\u001b[0;34m)\u001b[0m\u001b[0;34m\u001b[0m\u001b[0m\n\u001b[1;32m    860\u001b[0m \u001b[0;34m\u001b[0m\u001b[0m\n",
      "\u001b[0;32mD:\\Мои файлы\\Программы\\python\\data_analyse_labs\\venv\\lib\\site-packages\\pandas\\core\\reshape\\reshape.py\u001b[0m in \u001b[0;36mcheck_len\u001b[0;34m(item, name)\u001b[0m\n\u001b[1;32m    854\u001b[0m                         len_msg.format(name=name, len_item=len(item),\n\u001b[1;32m    855\u001b[0m                                        len_enc=data_to_encode.shape[1])\n\u001b[0;32m--> 856\u001b[0;31m                     \u001b[0;32mraise\u001b[0m \u001b[0mValueError\u001b[0m\u001b[0;34m(\u001b[0m\u001b[0mlen_msg\u001b[0m\u001b[0;34m)\u001b[0m\u001b[0;34m\u001b[0m\u001b[0m\n\u001b[0m\u001b[1;32m    857\u001b[0m \u001b[0;34m\u001b[0m\u001b[0m\n\u001b[1;32m    858\u001b[0m         \u001b[0mcheck_len\u001b[0m\u001b[0;34m(\u001b[0m\u001b[0mprefix\u001b[0m\u001b[0;34m,\u001b[0m \u001b[0;34m'prefix'\u001b[0m\u001b[0;34m)\u001b[0m\u001b[0;34m\u001b[0m\u001b[0m\n",
      "\u001b[0;31mValueError\u001b[0m: Length of 'prefix' (4) did not match the length of the columns being encoded (3)."
     ]
    }
   ],
   "source": [
    "dataset = pandas.read_csv('e-com.csv', sep=',')\n",
    "dataset = dataset.drop(columns=['Title', 'Review Text', 'Unnamed: 0', 'Positive Feedback Count', 'Rating'])\n",
    "df = pandas.get_dummies(dataset, prefix=['Division Name', 'Department Name', 'Class Name', 'Recall'], drop_first=True)\n",
    "scaler = preprocess.StandardScaler()\n",
    "scaler.fit_transform(df[['Clothing ID', 'Age']])\n",
    "df[['Clothing ID', 'Age']] = scaler.transform(\n",
    "    df[['Clothing ID', 'Age']])\n",
    "print(df.head())"
   ]
  },
  {
   "cell_type": "code",
   "execution_count": 4,
   "metadata": {},
   "outputs": [],
   "source": [
    "y = df['Recommended IND']\n",
    "X = df.drop(columns=['Recommended IND'])"
   ]
  },
  {
   "cell_type": "markdown",
   "metadata": {},
   "source": [
    "### Классификатор KNN"
   ]
  },
  {
   "cell_type": "code",
   "execution_count": 5,
   "metadata": {},
   "outputs": [
    {
     "name": "stdout",
     "output_type": "stream",
     "text": [
      "F - мера 0.894438317315267\n",
      "Полнота 0.9789618899810312\n",
      "Точность 0.8233502538071066\n",
      "Доля верных ответов 0.8098211751348283\n"
     ]
    }
   ],
   "source": [
    "clf = knn.KNeighborsClassifier(n_neighbors=10)\n",
    "X_train, X_holdout, y_train, y_holdout = model_selection.train_test_split(\n",
    "    X, y, test_size = 0.3, random_state = 17)\n",
    "clf.fit(X_train,y_train)\n",
    "scores(y_holdout,clf.predict(X_holdout))"
   ]
  },
  {
   "cell_type": "markdown",
   "metadata": {},
   "source": [
    "#### Использование Pipeline"
   ]
  },
  {
   "cell_type": "code",
   "execution_count": 6,
   "metadata": {},
   "outputs": [
    {
     "name": "stdout",
     "output_type": "stream",
     "text": [
      "F - мера 0.8883761635770546\n",
      "Полнота 0.9627521986549405\n",
      "Точность 0.8246676514032496\n",
      "Доля верных ответов 0.8008799318762418\n"
     ]
    }
   ],
   "source": [
    "knn_pipe = pipeline.Pipeline([('scaler',preprocess.StandardScaler()),\n",
    "                              ('knn',knn.KNeighborsClassifier(n_jobs=-1))])\n",
    "knn_pipe.fit(X_train,y_train)\n",
    "scores(y_holdout,knn_pipe.predict(X_holdout))"
   ]
  },
  {
   "cell_type": "markdown",
   "metadata": {},
   "source": [
    "#### Поиск гиперпараметров"
   ]
  },
  {
   "cell_type": "code",
   "execution_count": 7,
   "metadata": {},
   "outputs": [
    {
     "name": "stdout",
     "output_type": "stream",
     "text": [
      "Fitting 5 folds for each of 19 candidates, totalling 95 fits\n"
     ]
    },
    {
     "name": "stderr",
     "output_type": "stream",
     "text": [
      "[Parallel(n_jobs=-1)]: Done  42 tasks      | elapsed:   21.1s\n",
      "[Parallel(n_jobs=-1)]: Done  95 out of  95 | elapsed:   46.5s finished\n"
     ]
    },
    {
     "data": {
      "text/plain": [
       "GridSearchCV(cv=5, error_score='raise',\n",
       "       estimator=KNeighborsClassifier(algorithm='auto', leaf_size=30, metric='minkowski',\n",
       "           metric_params=None, n_jobs=1, n_neighbors=5, p=2,\n",
       "           weights='uniform'),\n",
       "       fit_params=None, iid=True, n_jobs=-1,\n",
       "       param_grid={'n_neighbors': range(1, 20)}, pre_dispatch='2*n_jobs',\n",
       "       refit=True, return_train_score='warn', scoring=None, verbose=True)"
      ]
     },
     "execution_count": 7,
     "metadata": {},
     "output_type": "execute_result"
    }
   ],
   "source": [
    "knn_params = {\n",
    "        'n_neighbors': range(1, 20)\n",
    "}\n",
    "knn_grid = model_selection.GridSearchCV(\n",
    "        knn.KNeighborsClassifier(), knn_params, cv=5, n_jobs=-1, verbose=True)\n",
    "knn_grid.fit(X_train, y_train)"
   ]
  },
  {
   "cell_type": "code",
   "execution_count": 8,
   "metadata": {},
   "outputs": [
    {
     "data": {
      "text/plain": [
       "{'n_neighbors': 19}"
      ]
     },
     "execution_count": 8,
     "metadata": {},
     "output_type": "execute_result"
    }
   ],
   "source": [
    "knn_grid.best_params_"
   ]
  },
  {
   "cell_type": "code",
   "execution_count": 9,
   "metadata": {},
   "outputs": [
    {
     "data": {
      "text/plain": [
       "0.8217153284671533"
      ]
     },
     "execution_count": 9,
     "metadata": {},
     "output_type": "execute_result"
    }
   ],
   "source": [
    "knn_grid.best_score_"
   ]
  },
  {
   "cell_type": "code",
   "execution_count": 10,
   "metadata": {},
   "outputs": [
    {
     "name": "stdout",
     "output_type": "stream",
     "text": [
      "F - мера 0.9026479750778816\n",
      "Полнота 0.9993102259010174\n",
      "Точность 0.8230365004970884\n",
      "Доля верных ответов 0.8225943797899518\n"
     ]
    }
   ],
   "source": [
    "etalon_knn = knn.KNeighborsClassifier(n_neighbors=knn_grid.best_params_['n_neighbors'])\n",
    "etalon_knn.fit(X_train,y_train)\n",
    "scores(y_holdout,etalon_knn.predict(X_holdout))"
   ]
  },
  {
   "cell_type": "markdown",
   "metadata": {},
   "source": [
    "### Построение решающего дерева"
   ]
  },
  {
   "cell_type": "code",
   "execution_count": 11,
   "metadata": {},
   "outputs": [
    {
     "name": "stdout",
     "output_type": "stream",
     "text": [
      "F - мера 0.9003361213163449\n",
      "Полнота 0.9931022590101741\n",
      "Точность 0.8234200743494424\n",
      "Доля верных ответов 0.8190462673857508\n"
     ]
    }
   ],
   "source": [
    "tree_clr = tree.DecisionTreeClassifier(max_depth = 7, random_state = 100)\n",
    "tree_clr.fit(X_train, y_train)\n",
    "scores(y_holdout, tree_clr.predict(X_holdout))"
   ]
  },
  {
   "cell_type": "markdown",
   "metadata": {},
   "source": [
    "#### Поиск гиперпараметров"
   ]
  },
  {
   "cell_type": "code",
   "execution_count": 12,
   "metadata": {},
   "outputs": [
    {
     "name": "stdout",
     "output_type": "stream",
     "text": [
      "Fitting 5 folds for each of 12150 candidates, totalling 60750 fits\n"
     ]
    },
    {
     "name": "stderr",
     "output_type": "stream",
     "text": [
      "[Parallel(n_jobs=-1)]: Done  50 tasks      | elapsed:    6.1s\n",
      "[Parallel(n_jobs=-1)]: Done 950 tasks      | elapsed:   14.0s\n",
      "[Parallel(n_jobs=-1)]: Done 2450 tasks      | elapsed:   28.6s\n",
      "[Parallel(n_jobs=-1)]: Done 4550 tasks      | elapsed:   47.8s\n",
      "[Parallel(n_jobs=-1)]: Done 7250 tasks      | elapsed:  1.2min\n",
      "[Parallel(n_jobs=-1)]: Done 10550 tasks      | elapsed:  1.7min\n",
      "[Parallel(n_jobs=-1)]: Done 14450 tasks      | elapsed:  2.4min\n",
      "[Parallel(n_jobs=-1)]: Done 18950 tasks      | elapsed:  3.2min\n",
      "[Parallel(n_jobs=-1)]: Done 24050 tasks      | elapsed:  4.2min\n",
      "[Parallel(n_jobs=-1)]: Done 29750 tasks      | elapsed:  5.3min\n",
      "[Parallel(n_jobs=-1)]: Done 36050 tasks      | elapsed:  6.7min\n",
      "[Parallel(n_jobs=-1)]: Done 42950 tasks      | elapsed:  8.3min\n",
      "[Parallel(n_jobs=-1)]: Done 50450 tasks      | elapsed: 10.1min\n",
      "[Parallel(n_jobs=-1)]: Done 58550 tasks      | elapsed: 12.2min\n",
      "[Parallel(n_jobs=-1)]: Done 60750 out of 60750 | elapsed: 12.9min finished\n"
     ]
    },
    {
     "data": {
      "text/plain": [
       "GridSearchCV(cv=5, error_score='raise',\n",
       "       estimator=DecisionTreeClassifier(class_weight=None, criterion='gini', max_depth=None,\n",
       "            max_features=None, max_leaf_nodes=None,\n",
       "            min_impurity_decrease=0.0, min_impurity_split=None,\n",
       "            min_samples_leaf=1, min_samples_split=2,\n",
       "            min_weight_fraction_leaf=0.0, presort=False, random_state=None,\n",
       "            splitter='best'),\n",
       "       fit_params=None, iid=True, n_jobs=-1,\n",
       "       param_grid={'max_depth': range(1, 10), 'random_state': range(50, 100), 'max_features': range(1, 28)},\n",
       "       pre_dispatch='2*n_jobs', refit=True, return_train_score='warn',\n",
       "       scoring=None, verbose=True)"
      ]
     },
     "execution_count": 12,
     "metadata": {},
     "output_type": "execute_result"
    }
   ],
   "source": [
    "tree_params = {\n",
    "        'max_depth': range(1, 10),\n",
    "        'max_features': range(1, 28),\n",
    "}\n",
    "tree_grid = model_selection.GridSearchCV(\n",
    "        tree.DecisionTreeClassifier(), tree_params, cv=5, n_jobs=-1, verbose=True)\n",
    "tree_grid.fit(X_train, y_train)"
   ]
  },
  {
   "cell_type": "code",
   "execution_count": 13,
   "metadata": {},
   "outputs": [
    {
     "data": {
      "text/plain": [
       "{'max_depth': 2, 'max_features': 3, 'random_state': 67}"
      ]
     },
     "execution_count": 13,
     "metadata": {},
     "output_type": "execute_result"
    }
   ],
   "source": [
    "tree_grid.best_params_"
   ]
  },
  {
   "cell_type": "code",
   "execution_count": 14,
   "metadata": {},
   "outputs": [
    {
     "data": {
      "text/plain": [
       "0.8222019464720195"
      ]
     },
     "execution_count": 14,
     "metadata": {},
     "output_type": "execute_result"
    }
   ],
   "source": [
    "tree_grid.best_score_"
   ]
  },
  {
   "cell_type": "code",
   "execution_count": 15,
   "metadata": {},
   "outputs": [
    {
     "name": "stdout",
     "output_type": "stream",
     "text": [
      "F - мера 0.9029194239003504\n",
      "Полнота 1.0\n",
      "Точность 0.8230201532784559\n",
      "Доля верных ответов 0.8230201532784559\n"
     ]
    }
   ],
   "source": [
    "etalon_tree = tree.DecisionTreeClassifier(max_depth = tree_grid.best_params_['max_depth'], \n",
    "                                          random_state = tree_grid.best_params_['random_state'], \n",
    "                                          max_features=tree_grid.best_params_['max_features'])\n",
    "etalon_tree.fit(X_train, y_train)\n",
    "scores(y_holdout, etalon_tree.predict(X_holdout))"
   ]
  },
  {
   "cell_type": "markdown",
   "metadata": {},
   "source": [
    "#### График важности признаков"
   ]
  },
  {
   "cell_type": "code",
   "execution_count": 16,
   "metadata": {},
   "outputs": [
    {
     "data": {
      "text/plain": [
       "Text(0,0.5,'Признак')"
      ]
     },
     "execution_count": 16,
     "metadata": {},
     "output_type": "execute_result"
    },
    {
     "data": {
      "image/png": "[encoded data removed]",
      "text/plain": [
       "<Figure size 432x288 with 1 Axes>"
      ]
     },
     "metadata": {
      "needs_background": "light"
     },
     "output_type": "display_data"
    }
   ],
   "source": [
    "n_features = len(etalon_tree.feature_importances_)\n",
    "plt.barh(range(n_features), etalon_tree.feature_importances_, align='center')\n",
    "plt.yticks(range(n_features), X.keys())\n",
    "plt.xlabel(\"Важность признака\")\n",
    "plt.ylabel(\"Признак\")"
   ]
  },
  {
   "cell_type": "markdown",
   "metadata": {},
   "source": [
    "#### Три самых важных признака"
   ]
  },
  {
   "cell_type": "code",
   "execution_count": 17,
   "metadata": {},
   "outputs": [
    {
     "data": {
      "text/plain": [
       "'Class Name_Jeans : 0.4809054343090333 Class Name_Trend : 0.3022333883685062 Clothing ID : 0.21686117732246055 '"
      ]
     },
     "execution_count": 17,
     "metadata": {},
     "output_type": "execute_result"
    }
   ],
   "source": [
    "feature_dict = dict(zip(etalon_tree.feature_importances_ ,X.head()))\n",
    "sorted_feature = sorted(etalon_tree.feature_importances_, reverse=True)\n",
    "ss = ''\n",
    "for score in  sorted_feature[:3]:\n",
    "    ss+= feature_dict[score] + ' : ' + score.__str__() + ' '\n",
    "ss"
   ]
  },
  {
   "cell_type": "markdown",
   "metadata": {},
   "source": [
    "### Использование случайного леса"
   ]
  },
  {
   "cell_type": "code",
   "execution_count": 18,
   "metadata": {},
   "outputs": [
    {
     "name": "stdout",
     "output_type": "stream",
     "text": [
      "F - мера 0.8675843985578499\n",
      "Полнота 0.9129160200034488\n",
      "Точность 0.8265417642466822\n",
      "Доля верных ответов 0.7706500141924496\n"
     ]
    }
   ],
   "source": [
    "forest = ens.RandomForestClassifier(n_estimators=120, n_jobs=-1, random_state=17)\n",
    "forest.fit(X_train, y_train)\n",
    "scores(y_holdout, forest.predict(X_holdout))"
   ]
  },
  {
   "cell_type": "markdown",
   "metadata": {},
   "source": [
    "#### Поиск гипепараметров"
   ]
  },
  {
   "cell_type": "code",
   "execution_count": 19,
   "metadata": {},
   "outputs": [
    {
     "name": "stdout",
     "output_type": "stream",
     "text": [
      "Fitting 5 folds for each of 1620 candidates, totalling 8100 fits\n"
     ]
    },
    {
     "name": "stderr",
     "output_type": "stream",
     "text": [
      "[Parallel(n_jobs=-1)]: Done  42 tasks      | elapsed:   39.0s\n",
      "[Parallel(n_jobs=-1)]: Done 192 tasks      | elapsed:  2.8min\n",
      "[Parallel(n_jobs=-1)]: Done 442 tasks      | elapsed:  6.4min\n",
      "[Parallel(n_jobs=-1)]: Done 792 tasks      | elapsed: 11.7min\n",
      "[Parallel(n_jobs=-1)]: Done 1242 tasks      | elapsed: 18.7min\n",
      "[Parallel(n_jobs=-1)]: Done 1792 tasks      | elapsed: 27.8min\n",
      "[Parallel(n_jobs=-1)]: Done 2442 tasks      | elapsed: 39.2min\n",
      "[Parallel(n_jobs=-1)]: Done 3192 tasks      | elapsed: 54.1min\n",
      "[Parallel(n_jobs=-1)]: Done 4042 tasks      | elapsed: 72.5min\n",
      "[Parallel(n_jobs=-1)]: Done 4992 tasks      | elapsed: 95.7min\n",
      "[Parallel(n_jobs=-1)]: Done 6042 tasks      | elapsed: 124.6min\n",
      "[Parallel(n_jobs=-1)]: Done 7192 tasks      | elapsed: 160.5min\n",
      "[Parallel(n_jobs=-1)]: Done 8100 out of 8100 | elapsed: 191.8min finished\n"
     ]
    },
    {
     "data": {
      "text/plain": [
       "GridSearchCV(cv=5, error_score='raise',\n",
       "       estimator=RandomForestClassifier(bootstrap=True, class_weight=None, criterion='gini',\n",
       "            max_depth=None, max_features='auto', max_leaf_nodes=None,\n",
       "            min_impurity_decrease=0.0, min_impurity_split=None,\n",
       "            min_samples_leaf=1, min_samples_split=2,\n",
       "            min_weight_fraction_leaf=0.0, n_estimators=10, n_jobs=1,\n",
       "            oob_score=False, random_state=None, verbose=0,\n",
       "            warm_start=False),\n",
       "       fit_params=None, iid=True, n_jobs=-1,\n",
       "       param_grid={'n_estimators': range(100, 120), 'random_state': range(87, 90), 'max_features': range(1, 28)},\n",
       "       pre_dispatch='2*n_jobs', refit=True, return_train_score='warn',\n",
       "       scoring=None, verbose=True)"
      ]
     },
     "execution_count": 19,
     "metadata": {},
     "output_type": "execute_result"
    }
   ],
   "source": [
    "forest_params = {\n",
    "        'n_estimators': range(100, 120),\n",
    "        'random_state': range(87, 90),\n",
    "        'max_features': range(1, 28),\n",
    "    }\n",
    "forest_grid = model_selection.GridSearchCV(\n",
    "        ens.RandomForestClassifier(), forest_params, cv=5, n_jobs=-1, verbose=True)\n",
    "forest_grid.fit(X_train, y_train)"
   ]
  },
  {
   "cell_type": "code",
   "execution_count": 20,
   "metadata": {},
   "outputs": [
    {
     "data": {
      "text/plain": [
       "{'max_features': 17, 'n_estimators': 108, 'random_state': 89}"
      ]
     },
     "execution_count": 20,
     "metadata": {},
     "output_type": "execute_result"
    }
   ],
   "source": [
    "forest_grid.best_params_ "
   ]
  },
  {
   "cell_type": "code",
   "execution_count": 21,
   "metadata": {},
   "outputs": [
    {
     "data": {
      "text/plain": [
       "0.770742092457421"
      ]
     },
     "execution_count": 21,
     "metadata": {},
     "output_type": "execute_result"
    }
   ],
   "source": [
    "forest_grid.best_score_"
   ]
  },
  {
   "cell_type": "code",
   "execution_count": 22,
   "metadata": {},
   "outputs": [
    {
     "name": "stdout",
     "output_type": "stream",
     "text": [
      "F - мера 0.8674580433892756\n",
      "Полнота 0.9136057941024315\n",
      "Точность 0.8257481296758105\n",
      "Доля верных ответов 0.7702242407039455\n"
     ]
    }
   ],
   "source": [
    "etalon_forest = ens.RandomForestClassifier(n_estimators=forest_grid.best_params_['n_estimators'],\n",
    "                                           n_jobs=-1, \n",
    "                                           random_state=forest_grid.best_params_['random_state'],\n",
    "                                          max_features=forest_grid.best_params_['max_features'])\n",
    "etalon_forest.fit(X_train, y_train)\n",
    "scores(y_holdout, etalon_forest.predict(X_holdout))"
   ]
  },
  {
   "cell_type": "code",
   "execution_count": 26,
   "metadata": {},
   "outputs": [
    {
     "data": {
      "text/html": [
       "<div>\n",
       "<style scoped>\n",
       "    .dataframe tbody tr th:only-of-type {\n",
       "        vertical-align: middle;\n",
       "    }\n",
       "\n",
       "    .dataframe tbody tr th {\n",
       "        vertical-align: top;\n",
       "    }\n",
       "\n",
       "    .dataframe thead th {\n",
       "        text-align: right;\n",
       "    }\n",
       "</style>\n",
       "<table border=\"1\" class=\"dataframe\">\n",
       "  <thead>\n",
       "    <tr style=\"text-align: right;\">\n",
       "      <th></th>\n",
       "      <th>Название метода</th>\n",
       "      <th>Доля верных ответов</th>\n",
       "      <th>Точность</th>\n",
       "      <th>Полнота</th>\n",
       "      <th>F - мера</th>\n",
       "      <th>Площадь под ROC-кривой</th>\n",
       "    </tr>\n",
       "  </thead>\n",
       "  <tbody>\n",
       "    <tr>\n",
       "      <th>0</th>\n",
       "      <td>KNN</td>\n",
       "      <td>0.822594</td>\n",
       "      <td>0.823037</td>\n",
       "      <td>0.999310</td>\n",
       "      <td>0.902648</td>\n",
       "      <td>0.500056</td>\n",
       "    </tr>\n",
       "    <tr>\n",
       "      <th>1</th>\n",
       "      <td>Решающее дерево</td>\n",
       "      <td>0.823020</td>\n",
       "      <td>0.823020</td>\n",
       "      <td>1.000000</td>\n",
       "      <td>0.902919</td>\n",
       "      <td>0.500000</td>\n",
       "    </tr>\n",
       "    <tr>\n",
       "      <th>2</th>\n",
       "      <td>Случайный лес</td>\n",
       "      <td>0.770224</td>\n",
       "      <td>0.825748</td>\n",
       "      <td>0.913606</td>\n",
       "      <td>0.867458</td>\n",
       "      <td>0.508527</td>\n",
       "    </tr>\n",
       "  </tbody>\n",
       "</table>\n",
       "</div>"
      ],
      "text/plain": [
       "   Название метода  Доля верных ответов  Точность   Полнота  F - мера  \\\n",
       "0              KNN             0.822594  0.823037  0.999310  0.902648   \n",
       "1  Решающее дерево             0.823020  0.823020  1.000000  0.902919   \n",
       "2    Случайный лес             0.770224  0.825748  0.913606  0.867458   \n",
       "\n",
       "   Площадь под ROC-кривой  \n",
       "0                0.500056  \n",
       "1                0.500000  \n",
       "2                0.508527  "
      ]
     },
     "execution_count": 26,
     "metadata": {},
     "output_type": "execute_result"
    }
   ],
   "source": [
    "clrs = [etalon_knn, etalon_tree, etalon_forest]\n",
    "res = {'Название метода': ['KNN', 'Решающее дерево', 'Случайный лес'],\n",
    "    'Доля верных ответов':[metrics.accuracy_score(y_holdout, cl.predict(X_holdout)) for cl in clrs],\n",
    "      'Точность':[metrics.precision_score(y_holdout, cl.predict(X_holdout)) for cl in clrs],\n",
    "      'Полнота':[metrics.recall_score(y_holdout, cl.predict(X_holdout)) for cl in clrs],\n",
    "      'F - мера':[metrics.f1_score(y_holdout, cl.predict(X_holdout)) for cl in clrs],\n",
    "      'Площадь под ROC-кривой':[metrics.roc_auc_score(y_holdout, cl.predict(X_holdout)) for cl in clrs]}\n",
    "result_table = pandas.DataFrame(data=res)\n",
    "result_table\n",
    "    "
   ]
  },
  {
   "cell_type": "code",
   "execution_count": 50,
   "metadata": {},
   "outputs": [
    {
     "data": {
      "text/plain": [
       "1    Решающее дерево\n",
       "Name: Название метода, dtype: object"
      ]
     },
     "execution_count": 50,
     "metadata": {},
     "output_type": "execute_result"
    }
   ],
   "source": [
    "result_table['Название метода'][result_table['Доля верных ответов'].max() == result_table['Доля верных ответов']]"
   ]
  },
  {
   "cell_type": "code",
   "execution_count": 51,
   "metadata": {},
   "outputs": [
    {
     "data": {
      "text/plain": [
       "2    Случайный лес\n",
       "Name: Название метода, dtype: object"
      ]
     },
     "execution_count": 51,
     "metadata": {},
     "output_type": "execute_result"
    }
   ],
   "source": [
    "result_table['Название метода'][result_table['Площадь под ROC-кривой'].max() == result_table['Площадь под ROC-кривой']]"
   ]
  },
  {
   "cell_type": "code",
   "execution_count": 52,
   "metadata": {},
   "outputs": [
    {
     "data": {
      "text/plain": [
       "2    Случайный лес\n",
       "Name: Название метода, dtype: object"
      ]
     },
     "execution_count": 52,
     "metadata": {},
     "output_type": "execute_result"
    }
   ],
   "source": [
    "result_table['Название метода'][result_table['Точность'].max() == result_table['Точность']]"
   ]
  },
  {
   "cell_type": "code",
   "execution_count": 53,
   "metadata": {},
   "outputs": [
    {
     "data": {
      "text/plain": [
       "1    Решающее дерево\n",
       "Name: Название метода, dtype: object"
      ]
     },
     "execution_count": 53,
     "metadata": {},
     "output_type": "execute_result"
    }
   ],
   "source": [
    "result_table['Название метода'][result_table['Полнота'].max() == result_table['Полнота']]"
   ]
  },
  {
   "cell_type": "code",
   "execution_count": 54,
   "metadata": {},
   "outputs": [
    {
     "data": {
      "text/plain": [
       "1    Решающее дерево\n",
       "Name: Название метода, dtype: object"
      ]
     },
     "execution_count": 54,
     "metadata": {},
     "output_type": "execute_result"
    }
   ],
   "source": [
    "result_table['Название метода'][result_table['F - мера'].max() == result_table['F - мера']]"
   ]
  }
 ],
 "metadata": {
  "kernelspec": {
   "display_name": "Python 3",
   "language": "python",
   "name": "python3"
  },
  "language_info": {
   "codemirror_mode": {
    "name": "ipython",
    "version": 3
   },
   "file_extension": ".py",
   "mimetype": "text/x-python",
   "name": "python",
   "nbconvert_exporter": "python",
   "pygments_lexer": "ipython3",
   "version": "3.7.0"
  }
 },
 "nbformat": 4,
 "nbformat_minor": 2
}
